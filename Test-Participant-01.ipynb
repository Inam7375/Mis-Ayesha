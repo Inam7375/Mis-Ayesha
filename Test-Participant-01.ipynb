{
 "cells": [
  {
   "cell_type": "code",
   "execution_count": 11,
   "metadata": {},
   "outputs": [],
   "source": [
    "%matplotlib inline\n",
    "import pandas as pd\n",
    "import numpy as np\n",
    "import matplotlib.pyplot as plt\n",
    "from os import walk\n",
    "import pylab\n",
    "import random"
   ]
  },
  {
   "cell_type": "code",
   "execution_count": 3,
   "metadata": {},
   "outputs": [],
   "source": [
    "filenames = next(walk(\"Part1\\\\by_block\"), (None, None, []))[2]"
   ]
  },
  {
   "cell_type": "code",
   "execution_count": 4,
   "metadata": {},
   "outputs": [
    {
     "data": {
      "text/plain": [
       "['0_ecg_.csv',\n",
       " '0_gsr_ppg_.csv',\n",
       " '10_ecg_.csv',\n",
       " '10_gsr_ppg_.csv',\n",
       " '11_ecg_.csv',\n",
       " '11_gsr_ppg_.csv',\n",
       " '12_ecg_.csv',\n",
       " '12_gsr_ppg_.csv',\n",
       " '13_ecg_.csv',\n",
       " '13_gsr_ppg_.csv',\n",
       " '14_ecg_.csv',\n",
       " '14_gsr_ppg_.csv',\n",
       " '15_ecg_.csv',\n",
       " '15_gsr_ppg_.csv',\n",
       " '16_ecg_.csv',\n",
       " '16_gsr_ppg_.csv',\n",
       " '17_ecg_.csv',\n",
       " '17_gsr_ppg_.csv',\n",
       " '18_ecg_.csv',\n",
       " '18_gsr_ppg_.csv',\n",
       " '19_ecg_.csv',\n",
       " '19_gsr_ppg_.csv',\n",
       " '1_ecg_.csv',\n",
       " '1_gsr_ppg_.csv',\n",
       " '20_ecg_.csv',\n",
       " '20_gsr_ppg_.csv',\n",
       " '21_ecg_.csv',\n",
       " '21_gsr_ppg_.csv',\n",
       " '22_ecg_.csv',\n",
       " '22_gsr_ppg_.csv',\n",
       " '23_ecg_.csv',\n",
       " '23_gsr_ppg_.csv',\n",
       " '24_ecg_.csv',\n",
       " '24_gsr_ppg_.csv',\n",
       " '25_ecg_.csv',\n",
       " '25_gsr_ppg_.csv',\n",
       " '26_ecg_.csv',\n",
       " '26_gsr_ppg_.csv',\n",
       " '27_ecg_.csv',\n",
       " '27_gsr_ppg_.csv',\n",
       " '28_ecg_.csv',\n",
       " '28_gsr_ppg_.csv',\n",
       " '29_ecg_.csv',\n",
       " '29_gsr_ppg_.csv',\n",
       " '2_ecg_mathtest.csv',\n",
       " '2_gsr_ppg_mathtest.csv',\n",
       " '30_ecg_.csv',\n",
       " '30_gsr_ppg_.csv',\n",
       " '31_ecg_pics1.csv',\n",
       " '31_gsr_ppg_pics1.csv',\n",
       " '32_ecg_.csv',\n",
       " '32_gsr_ppg_.csv',\n",
       " '33_ecg_pics2.csv',\n",
       " '33_gsr_ppg_pics2.csv',\n",
       " '34_ecg_.csv',\n",
       " '34_gsr_ppg_.csv',\n",
       " '35_ecg_pics3.csv',\n",
       " '35_gsr_ppg_pics3.csv',\n",
       " '36_ecg_.csv',\n",
       " '36_gsr_ppg_.csv',\n",
       " '37_ecg_pics4.csv',\n",
       " '37_gsr_ppg_pics4.csv',\n",
       " '38_ecg_.csv',\n",
       " '38_gsr_ppg_.csv',\n",
       " '3_ecg_.csv',\n",
       " '3_gsr_ppg_.csv',\n",
       " '4_ecg_.csv',\n",
       " '4_gsr_ppg_.csv',\n",
       " '5_ecg_strooptest.csv',\n",
       " '5_gsr_ppg_strooptest.csv',\n",
       " '6_ecg_.csv',\n",
       " '6_gsr_ppg_.csv',\n",
       " '7_ecg_.csv',\n",
       " '7_gsr_ppg_.csv',\n",
       " '8_ecg_IQtest.csv',\n",
       " '8_gsr_ppg_IQtest.csv',\n",
       " '9_ecg_.csv',\n",
       " '9_gsr_ppg_.csv',\n",
       " 'meta_info_ecg.csv',\n",
       " 'meta_info_gsr_ppg.csv']"
      ]
     },
     "execution_count": 4,
     "metadata": {},
     "output_type": "execute_result"
    }
   ],
   "source": [
    "filenames"
   ]
  },
  {
   "cell_type": "markdown",
   "metadata": {},
   "source": [
    "-----------------------------------------------"
   ]
  },
  {
   "cell_type": "code",
   "execution_count": 12,
   "metadata": {},
   "outputs": [
    {
     "name": "stdout",
     "output_type": "stream",
     "text": [
      "Total Values 0 : 5496\n",
      "Total Values 2 : 7678\n",
      "Total Values 4 : 15366\n",
      "Total Values 6 : 15368\n",
      "Total Values 8 : 15363\n",
      "Total Values 10 : 15361\n",
      "Total Values 12 : 7683\n",
      "Total Values 14 : 15369\n",
      "Total Values 16 : 15596\n",
      "Total Values 18 : 15131\n",
      "Total Values 20 : 15372\n",
      "Total Values 22 : 15366\n",
      "Total Values 24 : 7681\n",
      "Total Values 26 : 15366\n",
      "Total Values 28 : 15364\n",
      "Total Values 30 : 15598\n",
      "Total Values 32 : 15127\n",
      "Total Values 34 : 7687\n",
      "Total Values 36 : 15361\n",
      "Total Values 38 : 15363\n",
      "Total Values 40 : 15368\n",
      "Total Values 42 : 15356\n",
      "Total Values 44 : 43244\n",
      "Total Values 46 : 5093\n",
      "Total Values 48 : 13176\n",
      "Total Values 50 : 4864\n",
      "Total Values 52 : 13110\n",
      "Total Values 54 : 4958\n",
      "Total Values 56 : 13158\n",
      "Total Values 58 : 4876\n",
      "Total Values 60 : 13150\n",
      "Total Values 62 : 1642\n",
      "Total Values 64 : 1282\n",
      "Total Values 66 : 7687\n",
      "Total Values 68 : 46369\n",
      "Total Values 70 : 1283\n",
      "Total Values 72 : 7681\n",
      "Total Values 74 : 77010\n",
      "Total Values 76 : 1301\n",
      "39\n"
     ]
    }
   ],
   "source": [
    "df_final = pd.DataFrame()\n",
    "annot_points = []\n",
    "count = 0\n",
    "for i in range(len(filenames)):\n",
    "    if \"_ecg_\" in filenames[i]:\n",
    "        df = pd.read_csv(\"Part1\\\\by_block\\\\\" + filenames[i])\n",
    "        print(\"Total Values \" +str(i)+ \" : \" + str(len(df.index)))\n",
    "        annot_points.append(len(df.index))\n",
    "        df_final = df_final.append(df).reset_index(drop=True)\n",
    "        count = count + 1\n",
    "print(count)    "
   ]
  },
  {
   "cell_type": "code",
   "execution_count": 20,
   "metadata": {},
   "outputs": [
    {
     "data": {
      "text/html": [
       "<div>\n",
       "<style scoped>\n",
       "    .dataframe tbody tr th:only-of-type {\n",
       "        vertical-align: middle;\n",
       "    }\n",
       "\n",
       "    .dataframe tbody tr th {\n",
       "        vertical-align: top;\n",
       "    }\n",
       "\n",
       "    .dataframe thead th {\n",
       "        text-align: right;\n",
       "    }\n",
       "</style>\n",
       "<table border=\"1\" class=\"dataframe\">\n",
       "  <thead>\n",
       "    <tr style=\"text-align: right;\">\n",
       "      <th></th>\n",
       "      <th>block</th>\n",
       "      <th>stimulus</th>\n",
       "      <th>length (s)</th>\n",
       "      <th>Unnamed: 3</th>\n",
       "      <th>participants</th>\n",
       "    </tr>\n",
       "  </thead>\n",
       "  <tbody>\n",
       "    <tr>\n",
       "      <th>0</th>\n",
       "      <td>1</td>\n",
       "      <td>basseline</td>\n",
       "      <td>60</td>\n",
       "      <td>NaN</td>\n",
       "      <td>1 to 11</td>\n",
       "    </tr>\n",
       "    <tr>\n",
       "      <th>1</th>\n",
       "      <td>2</td>\n",
       "      <td>mathtest</td>\n",
       "      <td>168</td>\n",
       "      <td>NaN</td>\n",
       "      <td>NaN</td>\n",
       "    </tr>\n",
       "    <tr>\n",
       "      <th>2</th>\n",
       "      <td>3</td>\n",
       "      <td>mathtest_answer</td>\n",
       "      <td>5</td>\n",
       "      <td>NaN</td>\n",
       "      <td>NaN</td>\n",
       "    </tr>\n",
       "    <tr>\n",
       "      <th>3</th>\n",
       "      <td>4</td>\n",
       "      <td>neutral</td>\n",
       "      <td>30</td>\n",
       "      <td>NaN</td>\n",
       "      <td>NaN</td>\n",
       "    </tr>\n",
       "    <tr>\n",
       "      <th>4</th>\n",
       "      <td>5</td>\n",
       "      <td>strooptest</td>\n",
       "      <td>180</td>\n",
       "      <td>NaN</td>\n",
       "      <td>NaN</td>\n",
       "    </tr>\n",
       "  </tbody>\n",
       "</table>\n",
       "</div>"
      ],
      "text/plain": [
       "   block         stimulus  length (s)  Unnamed: 3 participants\n",
       "0      1        basseline          60         NaN      1 to 11\n",
       "1      2         mathtest         168         NaN          NaN\n",
       "2      3  mathtest_answer           5         NaN          NaN\n",
       "3      4          neutral          30         NaN          NaN\n",
       "4      5       strooptest         180         NaN          NaN"
      ]
     },
     "execution_count": 20,
     "metadata": {},
     "output_type": "execute_result"
    }
   ],
   "source": [
    "setup = pd.read_excel('Setup1.xlsx')\n",
    "setup.head()\n",
    "# annot_points[0]"
   ]
  },
  {
   "cell_type": "code",
   "execution_count": 102,
   "metadata": {},
   "outputs": [],
   "source": [
    "def plot_graph(values, annots, labels, label):\n",
    "    plt.rcParams['figure.figsize'] = [15, 10]\n",
    "    plt.plot(values, color=(0, 1, 1))\n",
    "    annot_points = 0\n",
    "    for i in range(len(annots)):\n",
    "        annot_points = annot_points + annots[i]\n",
    "        try:\n",
    "            print(str(labels[i]) + \" --> \" + label[i])\n",
    "            color = (random.random(), random.random(), random.random())\n",
    "            plt.annotate(labels[i], (annot_points, values[annots[i]]), size=12, color=color)\n",
    "        except Exception as e:\n",
    "            print(e)"
   ]
  },
  {
   "cell_type": "code",
   "execution_count": 104,
   "metadata": {},
   "outputs": [
    {
     "name": "stdout",
     "output_type": "stream",
     "text": [
      "0 --> basseline\n",
      "1 --> mathtest\n",
      "2 --> mathtest_answer\n",
      "3 --> neutral\n",
      "4 --> strooptest\n",
      "5 --> strooptest_answer\n",
      "6 --> neutral\n",
      "7 --> IQ test\n",
      "8 --> IQ test_answer\n",
      "9 --> neutral\n",
      "10 --> 2.mp4\n",
      "11 --> 5.mp4\n",
      "12 --> 6.mp4\n",
      "13 --> 7.mp4\n",
      "14 --> neutral\n",
      "15 --> 25.mp4\n",
      "16 --> 26.mp4\n",
      "17 --> 27.mp4\n",
      "18 --> 28.mp4\n",
      "19 --> neutral\n",
      "20 --> 13.mp4\n",
      "21 --> 14.mp4\n",
      "22 --> 17.mp4\n",
      "23 --> 18.mp4\n",
      "24 --> neutral\n",
      "25 --> 37.mp4\n",
      "26 --> 39.mp4\n",
      "27 --> 35.mp4\n",
      "28 --> 40.mp4\n",
      "29 --> neutral\n",
      "30 --> pics1\n",
      "31 --> neutral\n",
      "32 --> pics2\n",
      "33 --> neutral\n",
      "34 --> pics3\n",
      "35 --> neutral\n",
      "36 --> pics4\n",
      "37\n",
      "38\n"
     ]
    },
    {
     "data": {
      "image/png": "[encoded data removed]",
      "text/plain": [
       "<Figure size 1080x720 with 1 Axes>"
      ]
     },
     "metadata": {
      "needs_background": "light"
     },
     "output_type": "display_data"
    }
   ],
   "source": [
    "plot_graph(df_final.ecg2, annot_points, values_index, setup.stimulus)"
   ]
  },
  {
   "cell_type": "code",
   "execution_count": 9,
   "metadata": {},
   "outputs": [
    {
     "data": {
      "text/plain": [
       "557304"
      ]
     },
     "execution_count": 9,
     "metadata": {},
     "output_type": "execute_result"
    }
   ],
   "source": [
    "values_index = [i for i, e in enumerate(df_final.ecg2)]\n",
    "len(values_index)"
   ]
  },
  {
   "cell_type": "code",
   "execution_count": 10,
   "metadata": {},
   "outputs": [
    {
     "data": {
      "text/plain": [
       "<matplotlib.collections.PathCollection at 0x21e3b87ecc0>"
      ]
     },
     "execution_count": 10,
     "metadata": {},
     "output_type": "execute_result"
    },
    {
     "data": {
      "image/png": "[encoded data removed]",
      "text/plain": [
       "<Figure size 432x288 with 1 Axes>"
      ]
     },
     "metadata": {
      "needs_background": "light"
     },
     "output_type": "display_data"
    }
   ],
   "source": [
    "plt.scatter(values_index, df_final.ecg2)\n",
    "# plt.annotate(\"Begins\", (annot_points[0], df_final.ecg2[annot_points[0]]), size=15, color='black')\n",
    "# plt.annotate(\"Maths Test\", (annot_points[1]+annot_points[0], df_final.ecg2[annot_points[1]]), size=15, color='red')\n",
    "# plt.annotate(\"Maths Test Results\", (annot_points[2]+annot_points[1]+annot_points[0], df_final.ecg2[annot_points[2]]), size=15, color='purple')"
   ]
  },
  {
   "cell_type": "code",
   "execution_count": null,
   "metadata": {},
   "outputs": [],
   "source": []
  }
 ],
 "metadata": {
  "kernelspec": {
   "display_name": "Python 3",
   "language": "python",
   "name": "python3"
  },
  "language_info": {
   "codemirror_mode": {
    "name": "ipython",
    "version": 3
   },
   "file_extension": ".py",
   "mimetype": "text/x-python",
   "name": "python",
   "nbconvert_exporter": "python",
   "pygments_lexer": "ipython3",
   "version": "3.7.3"
  }
 },
 "nbformat": 4,
 "nbformat_minor": 2
}
